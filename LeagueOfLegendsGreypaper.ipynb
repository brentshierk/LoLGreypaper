{
  "nbformat": 4,
  "nbformat_minor": 0,
  "metadata": {
    "colab": {
      "name": "LeagueOfLegendsGreypaper.ipynb",
      "provenance": [],
      "collapsed_sections": [],
      "mount_file_id": "https://gist.github.com/brentshierk/91c0ef4f5b89eb33e0c26da041b82935#file-leagueoflegendsgreypaper-ipynb",
      "authorship_tag": "ABX9TyMU2cjacr3Tq+63QpJ+52oG",
      "include_colab_link": true
    },
    "kernelspec": {
      "name": "python3",
      "display_name": "Python 3"
    },
    "language_info": {
      "name": "python"
    }
  },
  "cells": [
    {
      "cell_type": "markdown",
      "metadata": {
        "id": "view-in-github",
        "colab_type": "text"
      },
      "source": [
        "<a href=\"https://colab.research.google.com/github/brentshierk/LoLGreypaper/blob/master/LeagueOfLegendsGreypaper.ipynb\" target=\"_parent\"><img src=\"https://colab.research.google.com/assets/colab-badge.svg\" alt=\"Open In Colab\"/></a>"
      ]
    },
    {
      "cell_type": "code",
      "source": [
        "pip install mlrose\n"
      ],
      "metadata": {
        "id": "Zkut8ywlZlVM",
        "outputId": "fff900e8-0961-41ce-9d04-b15539d4be75",
        "colab": {
          "base_uri": "https://localhost:8080/"
        }
      },
      "execution_count": 4,
      "outputs": [
        {
          "output_type": "stream",
          "name": "stdout",
          "text": [
            "Collecting mlrose\n",
            "  Downloading mlrose-1.3.0-py3-none-any.whl (27 kB)\n",
            "Requirement already satisfied: sklearn in /usr/local/lib/python3.7/dist-packages (from mlrose) (0.0)\n",
            "Requirement already satisfied: numpy in /usr/local/lib/python3.7/dist-packages (from mlrose) (1.19.5)\n",
            "Requirement already satisfied: scipy in /usr/local/lib/python3.7/dist-packages (from mlrose) (1.4.1)\n",
            "Requirement already satisfied: scikit-learn in /usr/local/lib/python3.7/dist-packages (from sklearn->mlrose) (1.0.1)\n",
            "Requirement already satisfied: joblib>=0.11 in /usr/local/lib/python3.7/dist-packages (from scikit-learn->sklearn->mlrose) (1.1.0)\n",
            "Requirement already satisfied: threadpoolctl>=2.0.0 in /usr/local/lib/python3.7/dist-packages (from scikit-learn->sklearn->mlrose) (3.0.0)\n",
            "Installing collected packages: mlrose\n",
            "Successfully installed mlrose-1.3.0\n"
          ]
        }
      ]
    },
    {
      "cell_type": "code",
      "metadata": {
        "id": "1W8Nozl10cqk"
      },
      "source": [
        "import pandas as pd\n",
        "import numpy as np\n",
        "import matplotlib.pyplot as plt\n",
        "import seaborn as sns\n",
        "import os \n",
        "import warnings\n",
        "import six\n",
        "import sys\n",
        "sys.modules['sklearn.externals.six'] = six\n",
        "import mlrose\n",
        "import pandas_profiling as ppr\n",
        "from sklearn.model_selection import train_test_split\n",
        "from sklearn.metrics import roc_auc_score\n",
        "from sklearn.metrics import accuracy_score\n",
        "from sklearn.metrics import auc\n",
        "from sklearn.metrics import plot_roc_curve\n",
        "from sklearn.metrics import roc_curve\n",
        "from sklearn.ensemble import RandomForestClassifier\n",
        "from sklearn.ensemble import StackingClassifier\n",
        "from sklearn.svm import SVC\n",
        "from sklearn.neighbors import KNeighborsClassifier\n",
        "from sklearn.linear_model import LogisticRegression\n",
        "from mlxtend.classifier import EnsembleVoteClassifier\n",
        "from sklearn.model_selection import cross_val_score \n",
        "from sklearn.model_selection import KFold\n",
        "from sklearn.model_selection import GridSearchCV\n",
        "from sklearn.preprocessing import StandardScaler"
      ],
      "execution_count": 25,
      "outputs": []
    },
    {
      "cell_type": "code",
      "source": [
        "file = '/content/drive/MyDrive/eth/high_diamond_ranked_10min.csv'\n",
        "info = pd.read_csv(file)\n",
        "data = pd.read_csv(file)\n",
        "\n"
      ],
      "metadata": {
        "id": "wCa0o38vt8DL"
      },
      "execution_count": 26,
      "outputs": []
    },
    {
      "cell_type": "code",
      "source": [
        "info"
      ],
      "metadata": {
        "colab": {
          "base_uri": "https://localhost:8080/",
          "height": 444
        },
        "id": "f1tWTFGexOJT",
        "outputId": "6dbc0ccb-ddf2-472c-e6cf-81b4aae20a3b"
      },
      "execution_count": 27,
      "outputs": [
        {
          "output_type": "execute_result",
          "data": {
            "text/html": [
              "<div>\n",
              "<style scoped>\n",
              "    .dataframe tbody tr th:only-of-type {\n",
              "        vertical-align: middle;\n",
              "    }\n",
              "\n",
              "    .dataframe tbody tr th {\n",
              "        vertical-align: top;\n",
              "    }\n",
              "\n",
              "    .dataframe thead th {\n",
              "        text-align: right;\n",
              "    }\n",
              "</style>\n",
              "<table border=\"1\" class=\"dataframe\">\n",
              "  <thead>\n",
              "    <tr style=\"text-align: right;\">\n",
              "      <th></th>\n",
              "      <th>gameId</th>\n",
              "      <th>blueWins</th>\n",
              "      <th>blueWardsPlaced</th>\n",
              "      <th>blueWardsDestroyed</th>\n",
              "      <th>blueFirstBlood</th>\n",
              "      <th>blueKills</th>\n",
              "      <th>blueDeaths</th>\n",
              "      <th>blueAssists</th>\n",
              "      <th>blueEliteMonsters</th>\n",
              "      <th>blueDragons</th>\n",
              "      <th>blueHeralds</th>\n",
              "      <th>blueTowersDestroyed</th>\n",
              "      <th>blueTotalGold</th>\n",
              "      <th>blueAvgLevel</th>\n",
              "      <th>blueTotalExperience</th>\n",
              "      <th>blueTotalMinionsKilled</th>\n",
              "      <th>blueTotalJungleMinionsKilled</th>\n",
              "      <th>blueGoldDiff</th>\n",
              "      <th>blueExperienceDiff</th>\n",
              "      <th>blueCSPerMin</th>\n",
              "      <th>blueGoldPerMin</th>\n",
              "      <th>redWardsPlaced</th>\n",
              "      <th>redWardsDestroyed</th>\n",
              "      <th>redFirstBlood</th>\n",
              "      <th>redKills</th>\n",
              "      <th>redDeaths</th>\n",
              "      <th>redAssists</th>\n",
              "      <th>redEliteMonsters</th>\n",
              "      <th>redDragons</th>\n",
              "      <th>redHeralds</th>\n",
              "      <th>redTowersDestroyed</th>\n",
              "      <th>redTotalGold</th>\n",
              "      <th>redAvgLevel</th>\n",
              "      <th>redTotalExperience</th>\n",
              "      <th>redTotalMinionsKilled</th>\n",
              "      <th>redTotalJungleMinionsKilled</th>\n",
              "      <th>redGoldDiff</th>\n",
              "      <th>redExperienceDiff</th>\n",
              "      <th>redCSPerMin</th>\n",
              "      <th>redGoldPerMin</th>\n",
              "    </tr>\n",
              "  </thead>\n",
              "  <tbody>\n",
              "    <tr>\n",
              "      <th>0</th>\n",
              "      <td>4519157822</td>\n",
              "      <td>0</td>\n",
              "      <td>28</td>\n",
              "      <td>2</td>\n",
              "      <td>1</td>\n",
              "      <td>9</td>\n",
              "      <td>6</td>\n",
              "      <td>11</td>\n",
              "      <td>0</td>\n",
              "      <td>0</td>\n",
              "      <td>0</td>\n",
              "      <td>0</td>\n",
              "      <td>17210</td>\n",
              "      <td>6.6</td>\n",
              "      <td>17039</td>\n",
              "      <td>195</td>\n",
              "      <td>36</td>\n",
              "      <td>643</td>\n",
              "      <td>-8</td>\n",
              "      <td>19.5</td>\n",
              "      <td>1721.0</td>\n",
              "      <td>15</td>\n",
              "      <td>6</td>\n",
              "      <td>0</td>\n",
              "      <td>6</td>\n",
              "      <td>9</td>\n",
              "      <td>8</td>\n",
              "      <td>0</td>\n",
              "      <td>0</td>\n",
              "      <td>0</td>\n",
              "      <td>0</td>\n",
              "      <td>16567</td>\n",
              "      <td>6.8</td>\n",
              "      <td>17047</td>\n",
              "      <td>197</td>\n",
              "      <td>55</td>\n",
              "      <td>-643</td>\n",
              "      <td>8</td>\n",
              "      <td>19.7</td>\n",
              "      <td>1656.7</td>\n",
              "    </tr>\n",
              "    <tr>\n",
              "      <th>1</th>\n",
              "      <td>4523371949</td>\n",
              "      <td>0</td>\n",
              "      <td>12</td>\n",
              "      <td>1</td>\n",
              "      <td>0</td>\n",
              "      <td>5</td>\n",
              "      <td>5</td>\n",
              "      <td>5</td>\n",
              "      <td>0</td>\n",
              "      <td>0</td>\n",
              "      <td>0</td>\n",
              "      <td>0</td>\n",
              "      <td>14712</td>\n",
              "      <td>6.6</td>\n",
              "      <td>16265</td>\n",
              "      <td>174</td>\n",
              "      <td>43</td>\n",
              "      <td>-2908</td>\n",
              "      <td>-1173</td>\n",
              "      <td>17.4</td>\n",
              "      <td>1471.2</td>\n",
              "      <td>12</td>\n",
              "      <td>1</td>\n",
              "      <td>1</td>\n",
              "      <td>5</td>\n",
              "      <td>5</td>\n",
              "      <td>2</td>\n",
              "      <td>2</td>\n",
              "      <td>1</td>\n",
              "      <td>1</td>\n",
              "      <td>1</td>\n",
              "      <td>17620</td>\n",
              "      <td>6.8</td>\n",
              "      <td>17438</td>\n",
              "      <td>240</td>\n",
              "      <td>52</td>\n",
              "      <td>2908</td>\n",
              "      <td>1173</td>\n",
              "      <td>24.0</td>\n",
              "      <td>1762.0</td>\n",
              "    </tr>\n",
              "    <tr>\n",
              "      <th>2</th>\n",
              "      <td>4521474530</td>\n",
              "      <td>0</td>\n",
              "      <td>15</td>\n",
              "      <td>0</td>\n",
              "      <td>0</td>\n",
              "      <td>7</td>\n",
              "      <td>11</td>\n",
              "      <td>4</td>\n",
              "      <td>1</td>\n",
              "      <td>1</td>\n",
              "      <td>0</td>\n",
              "      <td>0</td>\n",
              "      <td>16113</td>\n",
              "      <td>6.4</td>\n",
              "      <td>16221</td>\n",
              "      <td>186</td>\n",
              "      <td>46</td>\n",
              "      <td>-1172</td>\n",
              "      <td>-1033</td>\n",
              "      <td>18.6</td>\n",
              "      <td>1611.3</td>\n",
              "      <td>15</td>\n",
              "      <td>3</td>\n",
              "      <td>1</td>\n",
              "      <td>11</td>\n",
              "      <td>7</td>\n",
              "      <td>14</td>\n",
              "      <td>0</td>\n",
              "      <td>0</td>\n",
              "      <td>0</td>\n",
              "      <td>0</td>\n",
              "      <td>17285</td>\n",
              "      <td>6.8</td>\n",
              "      <td>17254</td>\n",
              "      <td>203</td>\n",
              "      <td>28</td>\n",
              "      <td>1172</td>\n",
              "      <td>1033</td>\n",
              "      <td>20.3</td>\n",
              "      <td>1728.5</td>\n",
              "    </tr>\n",
              "    <tr>\n",
              "      <th>3</th>\n",
              "      <td>4524384067</td>\n",
              "      <td>0</td>\n",
              "      <td>43</td>\n",
              "      <td>1</td>\n",
              "      <td>0</td>\n",
              "      <td>4</td>\n",
              "      <td>5</td>\n",
              "      <td>5</td>\n",
              "      <td>1</td>\n",
              "      <td>0</td>\n",
              "      <td>1</td>\n",
              "      <td>0</td>\n",
              "      <td>15157</td>\n",
              "      <td>7.0</td>\n",
              "      <td>17954</td>\n",
              "      <td>201</td>\n",
              "      <td>55</td>\n",
              "      <td>-1321</td>\n",
              "      <td>-7</td>\n",
              "      <td>20.1</td>\n",
              "      <td>1515.7</td>\n",
              "      <td>15</td>\n",
              "      <td>2</td>\n",
              "      <td>1</td>\n",
              "      <td>5</td>\n",
              "      <td>4</td>\n",
              "      <td>10</td>\n",
              "      <td>0</td>\n",
              "      <td>0</td>\n",
              "      <td>0</td>\n",
              "      <td>0</td>\n",
              "      <td>16478</td>\n",
              "      <td>7.0</td>\n",
              "      <td>17961</td>\n",
              "      <td>235</td>\n",
              "      <td>47</td>\n",
              "      <td>1321</td>\n",
              "      <td>7</td>\n",
              "      <td>23.5</td>\n",
              "      <td>1647.8</td>\n",
              "    </tr>\n",
              "    <tr>\n",
              "      <th>4</th>\n",
              "      <td>4436033771</td>\n",
              "      <td>0</td>\n",
              "      <td>75</td>\n",
              "      <td>4</td>\n",
              "      <td>0</td>\n",
              "      <td>6</td>\n",
              "      <td>6</td>\n",
              "      <td>6</td>\n",
              "      <td>0</td>\n",
              "      <td>0</td>\n",
              "      <td>0</td>\n",
              "      <td>0</td>\n",
              "      <td>16400</td>\n",
              "      <td>7.0</td>\n",
              "      <td>18543</td>\n",
              "      <td>210</td>\n",
              "      <td>57</td>\n",
              "      <td>-1004</td>\n",
              "      <td>230</td>\n",
              "      <td>21.0</td>\n",
              "      <td>1640.0</td>\n",
              "      <td>17</td>\n",
              "      <td>2</td>\n",
              "      <td>1</td>\n",
              "      <td>6</td>\n",
              "      <td>6</td>\n",
              "      <td>7</td>\n",
              "      <td>1</td>\n",
              "      <td>1</td>\n",
              "      <td>0</td>\n",
              "      <td>0</td>\n",
              "      <td>17404</td>\n",
              "      <td>7.0</td>\n",
              "      <td>18313</td>\n",
              "      <td>225</td>\n",
              "      <td>67</td>\n",
              "      <td>1004</td>\n",
              "      <td>-230</td>\n",
              "      <td>22.5</td>\n",
              "      <td>1740.4</td>\n",
              "    </tr>\n",
              "    <tr>\n",
              "      <th>...</th>\n",
              "      <td>...</td>\n",
              "      <td>...</td>\n",
              "      <td>...</td>\n",
              "      <td>...</td>\n",
              "      <td>...</td>\n",
              "      <td>...</td>\n",
              "      <td>...</td>\n",
              "      <td>...</td>\n",
              "      <td>...</td>\n",
              "      <td>...</td>\n",
              "      <td>...</td>\n",
              "      <td>...</td>\n",
              "      <td>...</td>\n",
              "      <td>...</td>\n",
              "      <td>...</td>\n",
              "      <td>...</td>\n",
              "      <td>...</td>\n",
              "      <td>...</td>\n",
              "      <td>...</td>\n",
              "      <td>...</td>\n",
              "      <td>...</td>\n",
              "      <td>...</td>\n",
              "      <td>...</td>\n",
              "      <td>...</td>\n",
              "      <td>...</td>\n",
              "      <td>...</td>\n",
              "      <td>...</td>\n",
              "      <td>...</td>\n",
              "      <td>...</td>\n",
              "      <td>...</td>\n",
              "      <td>...</td>\n",
              "      <td>...</td>\n",
              "      <td>...</td>\n",
              "      <td>...</td>\n",
              "      <td>...</td>\n",
              "      <td>...</td>\n",
              "      <td>...</td>\n",
              "      <td>...</td>\n",
              "      <td>...</td>\n",
              "      <td>...</td>\n",
              "    </tr>\n",
              "    <tr>\n",
              "      <th>9874</th>\n",
              "      <td>4527873286</td>\n",
              "      <td>1</td>\n",
              "      <td>17</td>\n",
              "      <td>2</td>\n",
              "      <td>1</td>\n",
              "      <td>7</td>\n",
              "      <td>4</td>\n",
              "      <td>5</td>\n",
              "      <td>1</td>\n",
              "      <td>1</td>\n",
              "      <td>0</td>\n",
              "      <td>0</td>\n",
              "      <td>17765</td>\n",
              "      <td>7.2</td>\n",
              "      <td>18967</td>\n",
              "      <td>211</td>\n",
              "      <td>69</td>\n",
              "      <td>2519</td>\n",
              "      <td>2469</td>\n",
              "      <td>21.1</td>\n",
              "      <td>1776.5</td>\n",
              "      <td>46</td>\n",
              "      <td>3</td>\n",
              "      <td>0</td>\n",
              "      <td>4</td>\n",
              "      <td>7</td>\n",
              "      <td>7</td>\n",
              "      <td>0</td>\n",
              "      <td>0</td>\n",
              "      <td>0</td>\n",
              "      <td>0</td>\n",
              "      <td>15246</td>\n",
              "      <td>6.8</td>\n",
              "      <td>16498</td>\n",
              "      <td>229</td>\n",
              "      <td>34</td>\n",
              "      <td>-2519</td>\n",
              "      <td>-2469</td>\n",
              "      <td>22.9</td>\n",
              "      <td>1524.6</td>\n",
              "    </tr>\n",
              "    <tr>\n",
              "      <th>9875</th>\n",
              "      <td>4527797466</td>\n",
              "      <td>1</td>\n",
              "      <td>54</td>\n",
              "      <td>0</td>\n",
              "      <td>0</td>\n",
              "      <td>6</td>\n",
              "      <td>4</td>\n",
              "      <td>8</td>\n",
              "      <td>1</td>\n",
              "      <td>1</td>\n",
              "      <td>0</td>\n",
              "      <td>0</td>\n",
              "      <td>16238</td>\n",
              "      <td>7.2</td>\n",
              "      <td>19255</td>\n",
              "      <td>233</td>\n",
              "      <td>48</td>\n",
              "      <td>782</td>\n",
              "      <td>888</td>\n",
              "      <td>23.3</td>\n",
              "      <td>1623.8</td>\n",
              "      <td>12</td>\n",
              "      <td>21</td>\n",
              "      <td>1</td>\n",
              "      <td>4</td>\n",
              "      <td>6</td>\n",
              "      <td>3</td>\n",
              "      <td>0</td>\n",
              "      <td>0</td>\n",
              "      <td>0</td>\n",
              "      <td>0</td>\n",
              "      <td>15456</td>\n",
              "      <td>7.0</td>\n",
              "      <td>18367</td>\n",
              "      <td>206</td>\n",
              "      <td>56</td>\n",
              "      <td>-782</td>\n",
              "      <td>-888</td>\n",
              "      <td>20.6</td>\n",
              "      <td>1545.6</td>\n",
              "    </tr>\n",
              "    <tr>\n",
              "      <th>9876</th>\n",
              "      <td>4527713716</td>\n",
              "      <td>0</td>\n",
              "      <td>23</td>\n",
              "      <td>1</td>\n",
              "      <td>0</td>\n",
              "      <td>6</td>\n",
              "      <td>7</td>\n",
              "      <td>5</td>\n",
              "      <td>0</td>\n",
              "      <td>0</td>\n",
              "      <td>0</td>\n",
              "      <td>0</td>\n",
              "      <td>15903</td>\n",
              "      <td>7.0</td>\n",
              "      <td>18032</td>\n",
              "      <td>210</td>\n",
              "      <td>45</td>\n",
              "      <td>-2416</td>\n",
              "      <td>-1877</td>\n",
              "      <td>21.0</td>\n",
              "      <td>1590.3</td>\n",
              "      <td>14</td>\n",
              "      <td>0</td>\n",
              "      <td>1</td>\n",
              "      <td>7</td>\n",
              "      <td>6</td>\n",
              "      <td>11</td>\n",
              "      <td>1</td>\n",
              "      <td>1</td>\n",
              "      <td>0</td>\n",
              "      <td>0</td>\n",
              "      <td>18319</td>\n",
              "      <td>7.4</td>\n",
              "      <td>19909</td>\n",
              "      <td>261</td>\n",
              "      <td>60</td>\n",
              "      <td>2416</td>\n",
              "      <td>1877</td>\n",
              "      <td>26.1</td>\n",
              "      <td>1831.9</td>\n",
              "    </tr>\n",
              "    <tr>\n",
              "      <th>9877</th>\n",
              "      <td>4527628313</td>\n",
              "      <td>0</td>\n",
              "      <td>14</td>\n",
              "      <td>4</td>\n",
              "      <td>1</td>\n",
              "      <td>2</td>\n",
              "      <td>3</td>\n",
              "      <td>3</td>\n",
              "      <td>1</td>\n",
              "      <td>1</td>\n",
              "      <td>0</td>\n",
              "      <td>0</td>\n",
              "      <td>14459</td>\n",
              "      <td>6.6</td>\n",
              "      <td>17229</td>\n",
              "      <td>224</td>\n",
              "      <td>48</td>\n",
              "      <td>-839</td>\n",
              "      <td>-1085</td>\n",
              "      <td>22.4</td>\n",
              "      <td>1445.9</td>\n",
              "      <td>66</td>\n",
              "      <td>4</td>\n",
              "      <td>0</td>\n",
              "      <td>3</td>\n",
              "      <td>2</td>\n",
              "      <td>1</td>\n",
              "      <td>0</td>\n",
              "      <td>0</td>\n",
              "      <td>0</td>\n",
              "      <td>0</td>\n",
              "      <td>15298</td>\n",
              "      <td>7.2</td>\n",
              "      <td>18314</td>\n",
              "      <td>247</td>\n",
              "      <td>40</td>\n",
              "      <td>839</td>\n",
              "      <td>1085</td>\n",
              "      <td>24.7</td>\n",
              "      <td>1529.8</td>\n",
              "    </tr>\n",
              "    <tr>\n",
              "      <th>9878</th>\n",
              "      <td>4523772935</td>\n",
              "      <td>1</td>\n",
              "      <td>18</td>\n",
              "      <td>0</td>\n",
              "      <td>1</td>\n",
              "      <td>6</td>\n",
              "      <td>6</td>\n",
              "      <td>5</td>\n",
              "      <td>0</td>\n",
              "      <td>0</td>\n",
              "      <td>0</td>\n",
              "      <td>0</td>\n",
              "      <td>16266</td>\n",
              "      <td>7.0</td>\n",
              "      <td>17321</td>\n",
              "      <td>207</td>\n",
              "      <td>44</td>\n",
              "      <td>927</td>\n",
              "      <td>-58</td>\n",
              "      <td>20.7</td>\n",
              "      <td>1626.6</td>\n",
              "      <td>9</td>\n",
              "      <td>2</td>\n",
              "      <td>0</td>\n",
              "      <td>6</td>\n",
              "      <td>6</td>\n",
              "      <td>4</td>\n",
              "      <td>1</td>\n",
              "      <td>1</td>\n",
              "      <td>0</td>\n",
              "      <td>0</td>\n",
              "      <td>15339</td>\n",
              "      <td>6.8</td>\n",
              "      <td>17379</td>\n",
              "      <td>201</td>\n",
              "      <td>46</td>\n",
              "      <td>-927</td>\n",
              "      <td>58</td>\n",
              "      <td>20.1</td>\n",
              "      <td>1533.9</td>\n",
              "    </tr>\n",
              "  </tbody>\n",
              "</table>\n",
              "<p>9879 rows × 40 columns</p>\n",
              "</div>"
            ],
            "text/plain": [
              "          gameId  blueWins  ...  redCSPerMin  redGoldPerMin\n",
              "0     4519157822         0  ...         19.7         1656.7\n",
              "1     4523371949         0  ...         24.0         1762.0\n",
              "2     4521474530         0  ...         20.3         1728.5\n",
              "3     4524384067         0  ...         23.5         1647.8\n",
              "4     4436033771         0  ...         22.5         1740.4\n",
              "...          ...       ...  ...          ...            ...\n",
              "9874  4527873286         1  ...         22.9         1524.6\n",
              "9875  4527797466         1  ...         20.6         1545.6\n",
              "9876  4527713716         0  ...         26.1         1831.9\n",
              "9877  4527628313         0  ...         24.7         1529.8\n",
              "9878  4523772935         1  ...         20.1         1533.9\n",
              "\n",
              "[9879 rows x 40 columns]"
            ]
          },
          "metadata": {},
          "execution_count": 27
        }
      ]
    },
    {
      "cell_type": "code",
      "metadata": {
        "id": "xI_51FpJAa2o",
        "colab": {
          "base_uri": "https://localhost:8080/"
        },
        "outputId": "d1e5512f-150f-42cf-9d44-6a478de9ef50"
      },
      "source": [
        "info.columns"
      ],
      "execution_count": 28,
      "outputs": [
        {
          "output_type": "execute_result",
          "data": {
            "text/plain": [
              "Index(['gameId', 'blueWins', 'blueWardsPlaced', 'blueWardsDestroyed',\n",
              "       'blueFirstBlood', 'blueKills', 'blueDeaths', 'blueAssists',\n",
              "       'blueEliteMonsters', 'blueDragons', 'blueHeralds',\n",
              "       'blueTowersDestroyed', 'blueTotalGold', 'blueAvgLevel',\n",
              "       'blueTotalExperience', 'blueTotalMinionsKilled',\n",
              "       'blueTotalJungleMinionsKilled', 'blueGoldDiff', 'blueExperienceDiff',\n",
              "       'blueCSPerMin', 'blueGoldPerMin', 'redWardsPlaced', 'redWardsDestroyed',\n",
              "       'redFirstBlood', 'redKills', 'redDeaths', 'redAssists',\n",
              "       'redEliteMonsters', 'redDragons', 'redHeralds', 'redTowersDestroyed',\n",
              "       'redTotalGold', 'redAvgLevel', 'redTotalExperience',\n",
              "       'redTotalMinionsKilled', 'redTotalJungleMinionsKilled', 'redGoldDiff',\n",
              "       'redExperienceDiff', 'redCSPerMin', 'redGoldPerMin'],\n",
              "      dtype='object')"
            ]
          },
          "metadata": {},
          "execution_count": 28
        }
      ]
    },
    {
      "cell_type": "code",
      "metadata": {
        "id": "QcEs_aQ7AkaU",
        "colab": {
          "base_uri": "https://localhost:8080/"
        },
        "outputId": "8750d8ab-2fae-469e-fbb7-5161e0583f65"
      },
      "source": [
        "info.blueWins.value_counts(normalize=True)"
      ],
      "execution_count": 29,
      "outputs": [
        {
          "output_type": "execute_result",
          "data": {
            "text/plain": [
              "0    0.500962\n",
              "1    0.499038\n",
              "Name: blueWins, dtype: float64"
            ]
          },
          "metadata": {},
          "execution_count": 29
        }
      ]
    },
    {
      "cell_type": "code",
      "metadata": {
        "id": "dk9diWuHA9ll",
        "colab": {
          "base_uri": "https://localhost:8080/"
        },
        "outputId": "bcee70c8-0831-4438-ea0c-95e015a97aae"
      },
      "source": [
        "plt.bar(info.blueWins.unique(),info.blueWins.value_counts(),color=(\"r\",\"b\"),tick_label=(\"L\",\"W\"))"
      ],
      "execution_count": 30,
      "outputs": [
        {
          "output_type": "execute_result",
          "data": {
            "text/plain": [
              "<BarContainer object of 2 artists>"
            ]
          },
          "metadata": {},
          "execution_count": 30
        }
      ]
    },
    {
      "cell_type": "code",
      "source": [
        "plt.scatter(info.blueKills,info.redKills,c=info.blueWins)\n",
        "plt.xlabel(\"blue kills\")\n",
        "plt.ylabel(\"red kills\")"
      ],
      "metadata": {
        "id": "RUUugKoLU0mM",
        "outputId": "7e4e1819-814f-4493-b5ee-c086729ac5e5",
        "colab": {
          "base_uri": "https://localhost:8080/",
          "height": 296
        }
      },
      "execution_count": 183,
      "outputs": [
        {
          "output_type": "execute_result",
          "data": {
            "text/plain": [
              "Text(0, 0.5, 'red kills')"
            ]
          },
          "metadata": {},
          "execution_count": 183
        },
        {
          "output_type": "display_data",
          "data": {
            "image/png": "[encoded data removed]",
            "text/plain": [
              "<Figure size 432x288 with 1 Axes>"
            ]
          },
          "metadata": {
            "needs_background": "light"
          }
        }
      ]
    },
    {
      "cell_type": "code",
      "metadata": {
        "id": "9-SIJiq2FMK9",
        "colab": {
          "base_uri": "https://localhost:8080/"
        },
        "outputId": "5babe7a2-08f9-459a-dbea-078da0052341"
      },
      "source": [
        "plt.scatter(info.blueAssists,info.redAssists,c=info.blueWins)\n",
        "plt.xlabel(\"blue assists\")\n",
        "plt.ylabel(\"red assists\")"
      ],
      "execution_count": 31,
      "outputs": [
        {
          "output_type": "execute_result",
          "data": {
            "text/plain": [
              "Text(48.736111111111114, 0.5, 'red assists')"
            ]
          },
          "metadata": {},
          "execution_count": 31
        }
      ]
    },
    {
      "cell_type": "code",
      "metadata": {
        "id": "NKdyiBtrFcNJ",
        "colab": {
          "base_uri": "https://localhost:8080/"
        },
        "outputId": "cde14d0d-c751-4dc0-e480-3d9668e6dd08"
      },
      "source": [
        "info.blueTotalGold.where(info.blueWins==0).sort_values(ascending=False).head(2)"
      ],
      "execution_count": 34,
      "outputs": [
        {
          "output_type": "execute_result",
          "data": {
            "text/plain": [
              "9608    21055.0\n",
              "6137    20887.0\n",
              "Name: blueTotalGold, dtype: float64"
            ]
          },
          "metadata": {},
          "execution_count": 34
        }
      ]
    },
    {
      "cell_type": "code",
      "metadata": {
        "id": "Vmk37TnIFp15",
        "colab": {
          "base_uri": "https://localhost:8080/"
        },
        "outputId": "4eaa51cd-71bf-48a3-86f7-b8654350e0c9"
      },
      "source": [
        "plt.scatter(data.blueTotalGold,data.redTotalGold,c=data.blueWins)\n",
        "plt.vlines(21056,12000,24000,color= \"red\", linestyle=':')\n",
        "plt.vlines(20000,12000,24000,color= \"red\", linestyle=':')\n",
        "plt.axvspan(21100, 24000, color='g', alpha=0.5, lw=0)\n",
        "plt.xlabel(\"blue gold\")\n",
        "plt.ylabel(\"red gold\")"
      ],
      "execution_count": 32,
      "outputs": [
        {
          "output_type": "execute_result",
          "data": {
            "text/plain": [
              "Text(48.736111111111114, 0.5, 'red gold')"
            ]
          },
          "metadata": {},
          "execution_count": 32
        }
      ]
    },
    {
      "cell_type": "code",
      "metadata": {
        "id": "isxPk44YOL5t",
        "colab": {
          "base_uri": "https://localhost:8080/"
        },
        "outputId": "2da2d961-ef8e-486f-dd95-2d4c0acaea20"
      },
      "source": [
        "print(info.blueGoldDiff.where(info.blueWins==0).sort_values(ascending=False).head(1))\n",
        "print(info.blueGoldDiff.where(info.blueWins==1).sort_values(ascending=True).head(1))"
      ],
      "execution_count": 38,
      "outputs": [
        {
          "output_type": "stream",
          "name": "stdout",
          "text": [
            "9608    6744.0\n",
            "Name: blueGoldDiff, dtype: float64\n",
            "8459   -6324.0\n",
            "Name: blueGoldDiff, dtype: float64\n"
          ]
        }
      ]
    },
    {
      "cell_type": "code",
      "metadata": {
        "id": "A5xDF6gTfRqs",
        "colab": {
          "base_uri": "https://localhost:8080/"
        },
        "outputId": "6d6a92f6-28ea-45d6-a168-78d1690fd08f"
      },
      "source": [
        "plt.scatter(data.blueGoldDiff,data.blueWins,c=data.blueWins)\n",
        "plt.axvspan(-6324.0,6744.0,color='r',alpha=0.5,lw=0)\n",
        "plt.ylabel(\"Lose                                             Win\")\n",
        "plt.xlabel(\"team gold\")"
      ],
      "execution_count": 33,
      "outputs": [
        {
          "output_type": "execute_result",
          "data": {
            "text/plain": [
              "Text(0.5, 26.3611111111111, 'team gold')"
            ]
          },
          "metadata": {},
          "execution_count": 33
        }
      ]
    },
    {
      "cell_type": "code",
      "metadata": {
        "id": "FCS4gRVvfm0x",
        "colab": {
          "base_uri": "https://localhost:8080/",
          "height": 296
        },
        "outputId": "7ee5d2ef-c180-49aa-bbec-8b83e616ade9"
      },
      "source": [
        "plt.scatter(info.blueWardsPlaced,info.redWardsPlaced,c=info.blueWins)\n",
        "plt.xlabel(\"blue vision\")\n",
        "plt.ylabel(\"red vision\")"
      ],
      "execution_count": 40,
      "outputs": [
        {
          "output_type": "execute_result",
          "data": {
            "text/plain": [
              "Text(0, 0.5, 'red vision')"
            ]
          },
          "metadata": {},
          "execution_count": 40
        },
        {
          "output_type": "display_data",
          "data": {
            "image/png": "[encoded data removed]",
            "text/plain": [
              "<Figure size 432x288 with 1 Axes>"
            ]
          },
          "metadata": {
            "needs_background": "light"
          }
        }
      ]
    },
    {
      "cell_type": "code",
      "metadata": {
        "id": "5Rhnvxb5f2BO",
        "colab": {
          "base_uri": "https://localhost:8080/"
        },
        "outputId": "3a10284e-bf9a-4fb4-9d1e-247e2ac60c90"
      },
      "source": [
        "info.columns\n"
      ],
      "execution_count": 34,
      "outputs": [
        {
          "output_type": "execute_result",
          "data": {
            "text/plain": [
              "Index(['gameId', 'blueWins', 'blueWardsPlaced', 'blueWardsDestroyed',\n",
              "       'blueFirstBlood', 'blueKills', 'blueDeaths', 'blueAssists',\n",
              "       'blueEliteMonsters', 'blueDragons', 'blueHeralds',\n",
              "       'blueTowersDestroyed', 'blueTotalGold', 'blueAvgLevel',\n",
              "       'blueTotalExperience', 'blueTotalMinionsKilled',\n",
              "       'blueTotalJungleMinionsKilled', 'blueGoldDiff', 'blueExperienceDiff',\n",
              "       'blueCSPerMin', 'blueGoldPerMin', 'redWardsPlaced', 'redWardsDestroyed',\n",
              "       'redFirstBlood', 'redKills', 'redDeaths', 'redAssists',\n",
              "       'redEliteMonsters', 'redDragons', 'redHeralds', 'redTowersDestroyed',\n",
              "       'redTotalGold', 'redAvgLevel', 'redTotalExperience',\n",
              "       'redTotalMinionsKilled', 'redTotalJungleMinionsKilled', 'redGoldDiff',\n",
              "       'redExperienceDiff', 'redCSPerMin', 'redGoldPerMin'],\n",
              "      dtype='object')"
            ]
          },
          "metadata": {},
          "execution_count": 34
        }
      ]
    },
    {
      "cell_type": "code",
      "metadata": {
        "id": "ZPYzOJPvf38L",
        "colab": {
          "base_uri": "https://localhost:8080/"
        },
        "outputId": "4bc6178e-98d4-476e-c34c-f8987ec920b1"
      },
      "source": [
        "corr_matrix=info.drop([\"gameId\",'redWardsPlaced', 'redWardsDestroyed',\n",
        "       'redFirstBlood', 'redKills', 'redDeaths', 'redAssists',\n",
        "       'redEliteMonsters', 'redDragons', 'redHeralds', 'redTowersDestroyed',\n",
        "       'redTotalGold', 'redAvgLevel', 'redTotalExperience',\n",
        "       'redTotalMinionsKilled', 'redTotalJungleMinionsKilled', 'redGoldDiff',\n",
        "       'redExperienceDiff', 'redCSPerMin', 'redGoldPerMin'],axis=1).corr(method='pearson')\n",
        "corr_matrix.iloc[:,0]"
      ],
      "execution_count": 35,
      "outputs": [
        {
          "output_type": "execute_result",
          "data": {
            "text/plain": [
              "blueWins                        1.000000\n",
              "blueWardsPlaced                 0.000087\n",
              "blueWardsDestroyed              0.044247\n",
              "blueFirstBlood                  0.201769\n",
              "blueKills                       0.337358\n",
              "blueDeaths                     -0.339297\n",
              "blueAssists                     0.276685\n",
              "blueEliteMonsters               0.221944\n",
              "blueDragons                     0.213768\n",
              "blueHeralds                     0.092385\n",
              "blueTowersDestroyed             0.115566\n",
              "blueTotalGold                   0.417213\n",
              "blueAvgLevel                    0.357820\n",
              "blueTotalExperience             0.396141\n",
              "blueTotalMinionsKilled          0.224909\n",
              "blueTotalJungleMinionsKilled    0.131445\n",
              "blueGoldDiff                    0.511119\n",
              "blueExperienceDiff              0.489558\n",
              "blueCSPerMin                    0.224909\n",
              "blueGoldPerMin                  0.417213\n",
              "Name: blueWins, dtype: float64"
            ]
          },
          "metadata": {},
          "execution_count": 35
        }
      ]
    },
    {
      "cell_type": "code",
      "metadata": {
        "id": "1E4Z9V8wf87e"
      },
      "source": [
        "data.drop([\"gameId\",'redWardsPlaced', 'redWardsDestroyed',\n",
        "       'redFirstBlood', 'redKills', 'redDeaths', 'redAssists',\n",
        "       'redEliteMonsters', 'redDragons', 'redHeralds', 'redTowersDestroyed',\n",
        "       'redTotalGold', 'redAvgLevel', 'redTotalExperience',\n",
        "       'redTotalMinionsKilled', 'redTotalJungleMinionsKilled', 'redGoldDiff',\n",
        "       'redExperienceDiff', 'redCSPerMin', 'redGoldPerMin'],axis=1).describe()"
      ],
      "execution_count": null,
      "outputs": []
    },
    {
      "cell_type": "code",
      "metadata": {
        "id": "aN5-Bv_ff_9e",
        "colab": {
          "base_uri": "https://localhost:8080/"
        },
        "outputId": "68249bba-bb9e-4bbb-ea4d-befa7e37353e"
      },
      "source": [
        "data.blueWins.where(((data.blueKills+data.blueAssists)/data.blueDeaths)>=3).dropna().value_counts(normalize=True)\n"
      ],
      "execution_count": 44,
      "outputs": [
        {
          "output_type": "execute_result",
          "data": {
            "text/plain": [
              "1.0    0.765084\n",
              "0.0    0.234916\n",
              "Name: blueWins, dtype: float64"
            ]
          },
          "metadata": {},
          "execution_count": 44
        }
      ]
    },
    {
      "cell_type": "code",
      "metadata": {
        "id": "-FbcrYZjgCs6",
        "colab": {
          "base_uri": "https://localhost:8080/"
        },
        "outputId": "e3e65954-aae5-42de-cc26-aa1183fb0a9b"
      },
      "source": [
        "data.blueWins.where(data.blueTowersDestroyed>=1).dropna().value_counts(normalize=True)\n"
      ],
      "execution_count": 37,
      "outputs": [
        {
          "output_type": "execute_result",
          "data": {
            "text/plain": [
              "1.0    0.75431\n",
              "0.0    0.24569\n",
              "Name: blueWins, dtype: float64"
            ]
          },
          "metadata": {},
          "execution_count": 37
        }
      ]
    },
    {
      "cell_type": "code",
      "metadata": {
        "id": "EsN_uKgWyCWO",
        "colab": {
          "base_uri": "https://localhost:8080/"
        },
        "outputId": "bb2d7ca8-d361-45c4-df58-ab064a6c3595"
      },
      "source": [
        "data.blueWins.where(data.blueKills>=8).dropna().value_counts(normalize=True)\n"
      ],
      "execution_count": 38,
      "outputs": [
        {
          "output_type": "execute_result",
          "data": {
            "text/plain": [
              "1.0    0.69858\n",
              "0.0    0.30142\n",
              "Name: blueWins, dtype: float64"
            ]
          },
          "metadata": {},
          "execution_count": 38
        }
      ]
    },
    {
      "cell_type": "code",
      "source": [
        ""
      ],
      "metadata": {
        "id": "MHzPsdLpzAzL"
      },
      "execution_count": 38,
      "outputs": []
    },
    {
      "cell_type": "code",
      "metadata": {
        "id": "r-qgcsciyEmB",
        "colab": {
          "base_uri": "https://localhost:8080/"
        },
        "outputId": "b8cb3747-27b4-4e14-eeb7-ecd94266ede5"
      },
      "source": [
        "info[\"blueKDA\"]=3\n",
        "for i in range(0,len(info)):\n",
        "    if data.blueDeaths[i] != 0:\n",
        "        info[\"blueKDA\"][i]=((data.blueKills[i]+data.blueAssists[i])/data.blueDeaths[i]).round(4)\n",
        "    else:\n",
        "        0"
      ],
      "execution_count": 39,
      "outputs": [
        {
          "output_type": "stream",
          "name": "stderr",
          "text": [
            "/usr/local/lib/python3.7/dist-packages/ipykernel_launcher.py:4: SettingWithCopyWarning: \n",
            "A value is trying to be set on a copy of a slice from a DataFrame\n",
            "\n",
            "See the caveats in the documentation: https://pandas.pydata.org/pandas-docs/stable/user_guide/indexing.html#returning-a-view-versus-a-copy\n",
            "  after removing the cwd from sys.path.\n"
          ]
        }
      ]
    },
    {
      "cell_type": "code",
      "metadata": {
        "id": "R8PUejPoyKMx",
        "colab": {
          "base_uri": "https://localhost:8080/"
        },
        "outputId": "882e3a4e-008a-412b-eeb4-8166cf4882eb"
      },
      "source": [
        "info[\"redKDA\"]=3\n",
        "for i in range(0,len(info)):\n",
        "    if data.redDeaths[i]!=0:\n",
        "        info[\"redKDA\"][i] = ((data.redKills[i]+data.redAssists[i])/data.redDeaths[i]).round(4)\n",
        "    else:\n",
        "        0"
      ],
      "execution_count": 40,
      "outputs": [
        {
          "output_type": "stream",
          "name": "stderr",
          "text": [
            "/usr/local/lib/python3.7/dist-packages/ipykernel_launcher.py:4: SettingWithCopyWarning: \n",
            "A value is trying to be set on a copy of a slice from a DataFrame\n",
            "\n",
            "See the caveats in the documentation: https://pandas.pydata.org/pandas-docs/stable/user_guide/indexing.html#returning-a-view-versus-a-copy\n",
            "  after removing the cwd from sys.path.\n"
          ]
        }
      ]
    },
    {
      "cell_type": "code",
      "metadata": {
        "id": "ppdyCzHyyL07"
      },
      "source": [
        "info[\"blueKDADiff\"]=info[\"blueKDA\"]-info[\"redKDA\"]\n"
      ],
      "execution_count": 41,
      "outputs": []
    },
    {
      "cell_type": "code",
      "metadata": {
        "id": "wYReM3EtEIpu",
        "colab": {
          "base_uri": "https://localhost:8080/"
        },
        "outputId": "2899ad95-e048-48fd-da39-47d0b230abeb"
      },
      "source": [
        "info[\"blueGoldAdv\"]=3\n",
        "for i in range(0,len(info)):\n",
        "    if info[\"blueTotalGold\"][i] >= info[\"blueTotalGold\"][3464]:\n",
        "        info[\"blueGoldAdv\"][i] = 1\n",
        "    else:\n",
        "        info[\"blueGoldAdv\"][i] = 0\n"
      ],
      "execution_count": 42,
      "outputs": [
        {
          "output_type": "stream",
          "name": "stderr",
          "text": [
            "/usr/local/lib/python3.7/dist-packages/ipykernel_launcher.py:6: SettingWithCopyWarning: \n",
            "A value is trying to be set on a copy of a slice from a DataFrame\n",
            "\n",
            "See the caveats in the documentation: https://pandas.pydata.org/pandas-docs/stable/user_guide/indexing.html#returning-a-view-versus-a-copy\n",
            "  \n",
            "/usr/local/lib/python3.7/dist-packages/ipykernel_launcher.py:4: SettingWithCopyWarning: \n",
            "A value is trying to be set on a copy of a slice from a DataFrame\n",
            "\n",
            "See the caveats in the documentation: https://pandas.pydata.org/pandas-docs/stable/user_guide/indexing.html#returning-a-view-versus-a-copy\n",
            "  after removing the cwd from sys.path.\n"
          ]
        }
      ]
    },
    {
      "cell_type": "code",
      "metadata": {
        "id": "oj7VcPjAEL3u",
        "colab": {
          "base_uri": "https://localhost:8080/"
        },
        "outputId": "08b1d2f2-05f0-4227-ece9-4a72174f0497"
      },
      "source": [
        "info[\"blueDiffNeg\"]=3\n",
        "for i in range(0,len(info)):\n",
        "    if info[\"blueGoldDiff\"][i] <= info[\"blueGoldDiff\"][8459]:\n",
        "        info[\"blueDiffNeg\"][i] = 1\n",
        "    else:\n",
        "        info[\"blueDiffNeg\"][i] = 0\n"
      ],
      "execution_count": 43,
      "outputs": [
        {
          "output_type": "stream",
          "name": "stderr",
          "text": [
            "/usr/local/lib/python3.7/dist-packages/ipykernel_launcher.py:6: SettingWithCopyWarning: \n",
            "A value is trying to be set on a copy of a slice from a DataFrame\n",
            "\n",
            "See the caveats in the documentation: https://pandas.pydata.org/pandas-docs/stable/user_guide/indexing.html#returning-a-view-versus-a-copy\n",
            "  \n",
            "/usr/local/lib/python3.7/dist-packages/ipykernel_launcher.py:4: SettingWithCopyWarning: \n",
            "A value is trying to be set on a copy of a slice from a DataFrame\n",
            "\n",
            "See the caveats in the documentation: https://pandas.pydata.org/pandas-docs/stable/user_guide/indexing.html#returning-a-view-versus-a-copy\n",
            "  after removing the cwd from sys.path.\n"
          ]
        }
      ]
    },
    {
      "cell_type": "code",
      "metadata": {
        "id": "JhKPlNkzEORv",
        "colab": {
          "base_uri": "https://localhost:8080/"
        },
        "outputId": "b01f937f-8cd1-4744-b615-f417966bd50d"
      },
      "source": [
        "info[\"blueDiffPos\"]=3\n",
        "for i in range(0,9879):\n",
        "    if info[\"blueGoldDiff\"][i] >= info[\"blueGoldDiff\"][9608]:\n",
        "        info[\"blueDiffPos\"][i] = 1\n",
        "    else:\n",
        "        info[\"blueDiffPos\"][i] = 0"
      ],
      "execution_count": 44,
      "outputs": [
        {
          "output_type": "stream",
          "name": "stderr",
          "text": [
            "/usr/local/lib/python3.7/dist-packages/ipykernel_launcher.py:6: SettingWithCopyWarning: \n",
            "A value is trying to be set on a copy of a slice from a DataFrame\n",
            "\n",
            "See the caveats in the documentation: https://pandas.pydata.org/pandas-docs/stable/user_guide/indexing.html#returning-a-view-versus-a-copy\n",
            "  \n",
            "/usr/local/lib/python3.7/dist-packages/ipykernel_launcher.py:4: SettingWithCopyWarning: \n",
            "A value is trying to be set on a copy of a slice from a DataFrame\n",
            "\n",
            "See the caveats in the documentation: https://pandas.pydata.org/pandas-docs/stable/user_guide/indexing.html#returning-a-view-versus-a-copy\n",
            "  after removing the cwd from sys.path.\n"
          ]
        }
      ]
    },
    {
      "cell_type": "code",
      "metadata": {
        "id": "PjNjESgQEQoZ",
        "colab": {
          "base_uri": "https://localhost:8080/",
          "height": 444
        },
        "outputId": "055f5294-8e94-4158-9d11-3f7d00c89062"
      },
      "source": [
        "cols=['gameId', 'blueWins', 'blueWardsPlaced', 'blueWardsDestroyed',\n",
        "       'blueFirstBlood', 'blueKills', 'blueDeaths', 'blueAssists',\n",
        "       'blueEliteMonsters', 'blueDragons', 'blueHeralds',\n",
        "       'blueTowersDestroyed', 'blueTotalGold', 'blueAvgLevel',\n",
        "       'blueTotalExperience', 'blueTotalMinionsKilled',\n",
        "       'blueTotalJungleMinionsKilled', 'blueGoldDiff', 'blueExperienceDiff',\n",
        "       'blueCSPerMin', 'blueGoldPerMin']\n",
        "info[cols]"
      ],
      "execution_count": 45,
      "outputs": [
        {
          "output_type": "execute_result",
          "data": {
            "text/html": [
              "<div>\n",
              "<style scoped>\n",
              "    .dataframe tbody tr th:only-of-type {\n",
              "        vertical-align: middle;\n",
              "    }\n",
              "\n",
              "    .dataframe tbody tr th {\n",
              "        vertical-align: top;\n",
              "    }\n",
              "\n",
              "    .dataframe thead th {\n",
              "        text-align: right;\n",
              "    }\n",
              "</style>\n",
              "<table border=\"1\" class=\"dataframe\">\n",
              "  <thead>\n",
              "    <tr style=\"text-align: right;\">\n",
              "      <th></th>\n",
              "      <th>gameId</th>\n",
              "      <th>blueWins</th>\n",
              "      <th>blueWardsPlaced</th>\n",
              "      <th>blueWardsDestroyed</th>\n",
              "      <th>blueFirstBlood</th>\n",
              "      <th>blueKills</th>\n",
              "      <th>blueDeaths</th>\n",
              "      <th>blueAssists</th>\n",
              "      <th>blueEliteMonsters</th>\n",
              "      <th>blueDragons</th>\n",
              "      <th>blueHeralds</th>\n",
              "      <th>blueTowersDestroyed</th>\n",
              "      <th>blueTotalGold</th>\n",
              "      <th>blueAvgLevel</th>\n",
              "      <th>blueTotalExperience</th>\n",
              "      <th>blueTotalMinionsKilled</th>\n",
              "      <th>blueTotalJungleMinionsKilled</th>\n",
              "      <th>blueGoldDiff</th>\n",
              "      <th>blueExperienceDiff</th>\n",
              "      <th>blueCSPerMin</th>\n",
              "      <th>blueGoldPerMin</th>\n",
              "    </tr>\n",
              "  </thead>\n",
              "  <tbody>\n",
              "    <tr>\n",
              "      <th>0</th>\n",
              "      <td>4519157822</td>\n",
              "      <td>0</td>\n",
              "      <td>28</td>\n",
              "      <td>2</td>\n",
              "      <td>1</td>\n",
              "      <td>9</td>\n",
              "      <td>6</td>\n",
              "      <td>11</td>\n",
              "      <td>0</td>\n",
              "      <td>0</td>\n",
              "      <td>0</td>\n",
              "      <td>0</td>\n",
              "      <td>17210</td>\n",
              "      <td>6.6</td>\n",
              "      <td>17039</td>\n",
              "      <td>195</td>\n",
              "      <td>36</td>\n",
              "      <td>643</td>\n",
              "      <td>-8</td>\n",
              "      <td>19.5</td>\n",
              "      <td>1721.0</td>\n",
              "    </tr>\n",
              "    <tr>\n",
              "      <th>1</th>\n",
              "      <td>4523371949</td>\n",
              "      <td>0</td>\n",
              "      <td>12</td>\n",
              "      <td>1</td>\n",
              "      <td>0</td>\n",
              "      <td>5</td>\n",
              "      <td>5</td>\n",
              "      <td>5</td>\n",
              "      <td>0</td>\n",
              "      <td>0</td>\n",
              "      <td>0</td>\n",
              "      <td>0</td>\n",
              "      <td>14712</td>\n",
              "      <td>6.6</td>\n",
              "      <td>16265</td>\n",
              "      <td>174</td>\n",
              "      <td>43</td>\n",
              "      <td>-2908</td>\n",
              "      <td>-1173</td>\n",
              "      <td>17.4</td>\n",
              "      <td>1471.2</td>\n",
              "    </tr>\n",
              "    <tr>\n",
              "      <th>2</th>\n",
              "      <td>4521474530</td>\n",
              "      <td>0</td>\n",
              "      <td>15</td>\n",
              "      <td>0</td>\n",
              "      <td>0</td>\n",
              "      <td>7</td>\n",
              "      <td>11</td>\n",
              "      <td>4</td>\n",
              "      <td>1</td>\n",
              "      <td>1</td>\n",
              "      <td>0</td>\n",
              "      <td>0</td>\n",
              "      <td>16113</td>\n",
              "      <td>6.4</td>\n",
              "      <td>16221</td>\n",
              "      <td>186</td>\n",
              "      <td>46</td>\n",
              "      <td>-1172</td>\n",
              "      <td>-1033</td>\n",
              "      <td>18.6</td>\n",
              "      <td>1611.3</td>\n",
              "    </tr>\n",
              "    <tr>\n",
              "      <th>3</th>\n",
              "      <td>4524384067</td>\n",
              "      <td>0</td>\n",
              "      <td>43</td>\n",
              "      <td>1</td>\n",
              "      <td>0</td>\n",
              "      <td>4</td>\n",
              "      <td>5</td>\n",
              "      <td>5</td>\n",
              "      <td>1</td>\n",
              "      <td>0</td>\n",
              "      <td>1</td>\n",
              "      <td>0</td>\n",
              "      <td>15157</td>\n",
              "      <td>7.0</td>\n",
              "      <td>17954</td>\n",
              "      <td>201</td>\n",
              "      <td>55</td>\n",
              "      <td>-1321</td>\n",
              "      <td>-7</td>\n",
              "      <td>20.1</td>\n",
              "      <td>1515.7</td>\n",
              "    </tr>\n",
              "    <tr>\n",
              "      <th>4</th>\n",
              "      <td>4436033771</td>\n",
              "      <td>0</td>\n",
              "      <td>75</td>\n",
              "      <td>4</td>\n",
              "      <td>0</td>\n",
              "      <td>6</td>\n",
              "      <td>6</td>\n",
              "      <td>6</td>\n",
              "      <td>0</td>\n",
              "      <td>0</td>\n",
              "      <td>0</td>\n",
              "      <td>0</td>\n",
              "      <td>16400</td>\n",
              "      <td>7.0</td>\n",
              "      <td>18543</td>\n",
              "      <td>210</td>\n",
              "      <td>57</td>\n",
              "      <td>-1004</td>\n",
              "      <td>230</td>\n",
              "      <td>21.0</td>\n",
              "      <td>1640.0</td>\n",
              "    </tr>\n",
              "    <tr>\n",
              "      <th>...</th>\n",
              "      <td>...</td>\n",
              "      <td>...</td>\n",
              "      <td>...</td>\n",
              "      <td>...</td>\n",
              "      <td>...</td>\n",
              "      <td>...</td>\n",
              "      <td>...</td>\n",
              "      <td>...</td>\n",
              "      <td>...</td>\n",
              "      <td>...</td>\n",
              "      <td>...</td>\n",
              "      <td>...</td>\n",
              "      <td>...</td>\n",
              "      <td>...</td>\n",
              "      <td>...</td>\n",
              "      <td>...</td>\n",
              "      <td>...</td>\n",
              "      <td>...</td>\n",
              "      <td>...</td>\n",
              "      <td>...</td>\n",
              "      <td>...</td>\n",
              "    </tr>\n",
              "    <tr>\n",
              "      <th>9874</th>\n",
              "      <td>4527873286</td>\n",
              "      <td>1</td>\n",
              "      <td>17</td>\n",
              "      <td>2</td>\n",
              "      <td>1</td>\n",
              "      <td>7</td>\n",
              "      <td>4</td>\n",
              "      <td>5</td>\n",
              "      <td>1</td>\n",
              "      <td>1</td>\n",
              "      <td>0</td>\n",
              "      <td>0</td>\n",
              "      <td>17765</td>\n",
              "      <td>7.2</td>\n",
              "      <td>18967</td>\n",
              "      <td>211</td>\n",
              "      <td>69</td>\n",
              "      <td>2519</td>\n",
              "      <td>2469</td>\n",
              "      <td>21.1</td>\n",
              "      <td>1776.5</td>\n",
              "    </tr>\n",
              "    <tr>\n",
              "      <th>9875</th>\n",
              "      <td>4527797466</td>\n",
              "      <td>1</td>\n",
              "      <td>54</td>\n",
              "      <td>0</td>\n",
              "      <td>0</td>\n",
              "      <td>6</td>\n",
              "      <td>4</td>\n",
              "      <td>8</td>\n",
              "      <td>1</td>\n",
              "      <td>1</td>\n",
              "      <td>0</td>\n",
              "      <td>0</td>\n",
              "      <td>16238</td>\n",
              "      <td>7.2</td>\n",
              "      <td>19255</td>\n",
              "      <td>233</td>\n",
              "      <td>48</td>\n",
              "      <td>782</td>\n",
              "      <td>888</td>\n",
              "      <td>23.3</td>\n",
              "      <td>1623.8</td>\n",
              "    </tr>\n",
              "    <tr>\n",
              "      <th>9876</th>\n",
              "      <td>4527713716</td>\n",
              "      <td>0</td>\n",
              "      <td>23</td>\n",
              "      <td>1</td>\n",
              "      <td>0</td>\n",
              "      <td>6</td>\n",
              "      <td>7</td>\n",
              "      <td>5</td>\n",
              "      <td>0</td>\n",
              "      <td>0</td>\n",
              "      <td>0</td>\n",
              "      <td>0</td>\n",
              "      <td>15903</td>\n",
              "      <td>7.0</td>\n",
              "      <td>18032</td>\n",
              "      <td>210</td>\n",
              "      <td>45</td>\n",
              "      <td>-2416</td>\n",
              "      <td>-1877</td>\n",
              "      <td>21.0</td>\n",
              "      <td>1590.3</td>\n",
              "    </tr>\n",
              "    <tr>\n",
              "      <th>9877</th>\n",
              "      <td>4527628313</td>\n",
              "      <td>0</td>\n",
              "      <td>14</td>\n",
              "      <td>4</td>\n",
              "      <td>1</td>\n",
              "      <td>2</td>\n",
              "      <td>3</td>\n",
              "      <td>3</td>\n",
              "      <td>1</td>\n",
              "      <td>1</td>\n",
              "      <td>0</td>\n",
              "      <td>0</td>\n",
              "      <td>14459</td>\n",
              "      <td>6.6</td>\n",
              "      <td>17229</td>\n",
              "      <td>224</td>\n",
              "      <td>48</td>\n",
              "      <td>-839</td>\n",
              "      <td>-1085</td>\n",
              "      <td>22.4</td>\n",
              "      <td>1445.9</td>\n",
              "    </tr>\n",
              "    <tr>\n",
              "      <th>9878</th>\n",
              "      <td>4523772935</td>\n",
              "      <td>1</td>\n",
              "      <td>18</td>\n",
              "      <td>0</td>\n",
              "      <td>1</td>\n",
              "      <td>6</td>\n",
              "      <td>6</td>\n",
              "      <td>5</td>\n",
              "      <td>0</td>\n",
              "      <td>0</td>\n",
              "      <td>0</td>\n",
              "      <td>0</td>\n",
              "      <td>16266</td>\n",
              "      <td>7.0</td>\n",
              "      <td>17321</td>\n",
              "      <td>207</td>\n",
              "      <td>44</td>\n",
              "      <td>927</td>\n",
              "      <td>-58</td>\n",
              "      <td>20.7</td>\n",
              "      <td>1626.6</td>\n",
              "    </tr>\n",
              "  </tbody>\n",
              "</table>\n",
              "<p>9879 rows × 21 columns</p>\n",
              "</div>"
            ],
            "text/plain": [
              "          gameId  blueWins  ...  blueCSPerMin  blueGoldPerMin\n",
              "0     4519157822         0  ...          19.5          1721.0\n",
              "1     4523371949         0  ...          17.4          1471.2\n",
              "2     4521474530         0  ...          18.6          1611.3\n",
              "3     4524384067         0  ...          20.1          1515.7\n",
              "4     4436033771         0  ...          21.0          1640.0\n",
              "...          ...       ...  ...           ...             ...\n",
              "9874  4527873286         1  ...          21.1          1776.5\n",
              "9875  4527797466         1  ...          23.3          1623.8\n",
              "9876  4527713716         0  ...          21.0          1590.3\n",
              "9877  4527628313         0  ...          22.4          1445.9\n",
              "9878  4523772935         1  ...          20.7          1626.6\n",
              "\n",
              "[9879 rows x 21 columns]"
            ]
          },
          "metadata": {},
          "execution_count": 45
        }
      ]
    },
    {
      "cell_type": "code",
      "source": [
        "cols = ['blueTotalGold','blueTotalExperience','blueTotalMinionsKilled',\n",
        "        'blueGoldDiff','blueExperienceDiff','blueGoldPerMin',\n",
        "        'redTotalGold','redTotalExperience','redTotalMinionsKilled',\n",
        "        'redGoldDiff','redExperienceDiff','redGoldPerMin']\n",
        "standard = StandardScaler()\n",
        "info[cols]=standard.fit_transform(info[cols])"
      ],
      "metadata": {
        "id": "eDY1FfJ0z9WE"
      },
      "execution_count": 46,
      "outputs": []
    },
    {
      "cell_type": "code",
      "metadata": {
        "id": "tvvV5neeEULU"
      },
      "source": [
        "info_x=info.drop([\"gameId\",\"blueWins\"],axis=1)\n",
        "info_y=info.blueWins"
      ],
      "execution_count": 47,
      "outputs": []
    },
    {
      "cell_type": "markdown",
      "metadata": {
        "id": "RMfDwwxHEnLe"
      },
      "source": [
        "# K-Nearest Neighbors\n"
      ]
    },
    {
      "cell_type": "code",
      "metadata": {
        "id": "dM56Ul4zEY-j"
      },
      "source": [
        "cv=KFold(n_splits = 5, random_state=2022,shuffle=True)\n"
      ],
      "execution_count": 48,
      "outputs": []
    },
    {
      "cell_type": "code",
      "metadata": {
        "id": "ytmlhmR0Fdh4",
        "colab": {
          "base_uri": "https://localhost:8080/"
        },
        "outputId": "63570552-da6c-4fdb-d1c4-98599a846a96"
      },
      "source": [
        "np.sqrt(len(info_x))\n"
      ],
      "execution_count": 49,
      "outputs": [
        {
          "output_type": "execute_result",
          "data": {
            "text/plain": [
              "99.39315871829409"
            ]
          },
          "metadata": {},
          "execution_count": 49
        }
      ]
    },
    {
      "cell_type": "code",
      "source": [
        "##potiental best knn params\n",
        "## algorithm : ball tree,kd tree, brute"
      ],
      "metadata": {
        "id": "m41jmWiZJjbh"
      },
      "execution_count": 50,
      "outputs": []
    },
    {
      "cell_type": "code",
      "metadata": {
        "id": "tisfnGm2Fd5U"
      },
      "source": [
        "knn_params = {\"n_neighbors\" :np.arange(95,105),\n",
        "             \"weights\" : [\"distance\"],\n",
        "             \"algorithm\" : [\"ball_tree\"] , #,\"kd_tree\",\"brute\"\n",
        "             \"leaf_size\":[1,2]}\n"
      ],
      "execution_count": 52,
      "outputs": []
    },
    {
      "cell_type": "code",
      "metadata": {
        "id": "lJmYMzPaFelz",
        "colab": {
          "base_uri": "https://localhost:8080/"
        },
        "outputId": "740afae4-7a64-4864-d675-e674e0530058"
      },
      "source": [
        "knn = KNeighborsClassifier()\n",
        "grid_knn = GridSearchCV(knn, knn_params,cv=5,verbose=2,n_jobs=-1)\n",
        "grid_knn.fit(info_x,info_y)\n"
      ],
      "execution_count": 53,
      "outputs": [
        {
          "output_type": "stream",
          "name": "stdout",
          "text": [
            "Fitting 5 folds for each of 20 candidates, totalling 100 fits\n"
          ]
        },
        {
          "output_type": "execute_result",
          "data": {
            "text/plain": [
              "GridSearchCV(cv=5, estimator=KNeighborsClassifier(), n_jobs=-1,\n",
              "             param_grid={'algorithm': ['ball_tree'], 'leaf_size': [1, 2],\n",
              "                         'n_neighbors': array([ 95,  96,  97,  98,  99, 100, 101, 102, 103, 104]),\n",
              "                         'weights': ['distance']},\n",
              "             verbose=2)"
            ]
          },
          "metadata": {},
          "execution_count": 53
        }
      ]
    },
    {
      "cell_type": "code",
      "metadata": {
        "id": "w28qNSQzFe_k",
        "colab": {
          "base_uri": "https://localhost:8080/"
        },
        "outputId": "2b710132-13a2-4fa1-8278-a5e25769d5c1"
      },
      "source": [
        "knn_best_params=grid_knn.best_params_\n",
        "knn_best_params"
      ],
      "execution_count": 54,
      "outputs": [
        {
          "output_type": "execute_result",
          "data": {
            "text/plain": [
              "{'algorithm': 'ball_tree',\n",
              " 'leaf_size': 1,\n",
              " 'n_neighbors': 98,\n",
              " 'weights': 'distance'}"
            ]
          },
          "metadata": {},
          "execution_count": 54
        }
      ]
    },
    {
      "cell_type": "code",
      "metadata": {
        "id": "70igQRC6FeYJ"
      },
      "source": [
        "knn = KNeighborsClassifier(algorithm=\"ball_tree\",n_neighbors=98,weights=\"distance\",leaf_size=1)\n"
      ],
      "execution_count": 55,
      "outputs": []
    },
    {
      "cell_type": "code",
      "metadata": {
        "id": "4xH6o4V3Fgf9",
        "colab": {
          "base_uri": "https://localhost:8080/"
        },
        "outputId": "7815a6df-ac0a-4470-e71a-f29612e56614"
      },
      "source": [
        "  np.mean(cross_val_score(knn,info_x,info_y,cv=cv,scoring=\"accuracy\",n_jobs=-1))\n"
      ],
      "execution_count": 56,
      "outputs": [
        {
          "output_type": "execute_result",
          "data": {
            "text/plain": [
              "0.7068527135755651"
            ]
          },
          "metadata": {},
          "execution_count": 56
        }
      ]
    },
    {
      "cell_type": "markdown",
      "source": [
        "# Logistic Regression"
      ],
      "metadata": {
        "id": "aTrtkKscGlkw"
      }
    },
    {
      "cell_type": "code",
      "source": [
        "## potiental best log params \n",
        "## penalty l1,l2,elasticnet\n",
        "## solver newton-cg, lbfgs,sag,saga\n",
        "## C 1,5,10,20,30,50,100\n",
        "## warmstart True,False\n"
      ],
      "metadata": {
        "id": "K9llxxe2_dYM"
      },
      "execution_count": 170,
      "outputs": []
    },
    {
      "cell_type": "code",
      "source": [
        "log_params = {\"penalty\":[\"l2\"],\n",
        "              \"solver\":['lbfgs'],\n",
        "             \"C\":[50],\n",
        "             \"warm_start\":[True]}"
      ],
      "metadata": {
        "id": "9vzwvw6fdBZV"
      },
      "execution_count": 60,
      "outputs": []
    },
    {
      "cell_type": "code",
      "metadata": {
        "id": "IXXqRz83FgNU"
      },
      "source": [
        "logreg=LogisticRegression(penalty=\"l2\",solver=\"lbfgs\",C=50, max_iter=4000,warm_start=True)\n"
      ],
      "execution_count": 61,
      "outputs": []
    },
    {
      "cell_type": "code",
      "source": [
        "log_grid = GridSearchCV(logreg,log_params,cv=cv,verbose=2,n_jobs=-1)\n"
      ],
      "metadata": {
        "id": "IMGrS3lgKK8o"
      },
      "execution_count": 62,
      "outputs": []
    },
    {
      "cell_type": "code",
      "source": [
        "log_grid.fit(info_x,info_y)\n"
      ],
      "metadata": {
        "id": "qvoRSAeIKSAh",
        "outputId": "565d09b0-2371-4d57-d13d-d53a287d34c8",
        "colab": {
          "base_uri": "https://localhost:8080/"
        }
      },
      "execution_count": 63,
      "outputs": [
        {
          "output_type": "stream",
          "name": "stdout",
          "text": [
            "Fitting 5 folds for each of 1 candidates, totalling 5 fits\n"
          ]
        },
        {
          "output_type": "execute_result",
          "data": {
            "text/plain": [
              "GridSearchCV(cv=KFold(n_splits=5, random_state=2022, shuffle=True),\n",
              "             estimator=LogisticRegression(C=50, max_iter=4000, warm_start=True),\n",
              "             n_jobs=-1,\n",
              "             param_grid={'C': [50], 'penalty': ['l2'], 'solver': ['lbfgs'],\n",
              "                         'warm_start': [True]},\n",
              "             verbose=2)"
            ]
          },
          "metadata": {},
          "execution_count": 63
        }
      ]
    },
    {
      "cell_type": "markdown",
      "source": [
        "# Random Forest"
      ],
      "metadata": {
        "id": "KqC2d_LhGZDs"
      }
    },
    {
      "cell_type": "code",
      "source": [
        "## potiental best rdf params\n",
        "## criterion: entropy,gini\n",
        "## max depth: 2,4,6,8\n",
        "## min samples split: 2,4,6\n",
        "## max features: sqrt,log2"
      ],
      "metadata": {
        "id": "yQlinI44Heht"
      },
      "execution_count": null,
      "outputs": []
    },
    {
      "cell_type": "code",
      "source": [
        "rdf_params={\"criterion\":[\"entropy\"],\n",
        "           \"max_depth\":[8],\n",
        "           \"min_samples_split\":[4],\n",
        "           \"max_features\":[\"sqrt\"]}"
      ],
      "metadata": {
        "id": "SwIulHHBmxyv"
      },
      "execution_count": 64,
      "outputs": []
    },
    {
      "cell_type": "code",
      "source": [
        "rdf=RandomForestClassifier()\n"
      ],
      "metadata": {
        "id": "IdV3XW_vmxu2"
      },
      "execution_count": 65,
      "outputs": []
    },
    {
      "cell_type": "code",
      "source": [
        "rdf_grid=GridSearchCV(rdf,rdf_params,cv=cv,verbose=2,n_jobs=-1)\n"
      ],
      "metadata": {
        "id": "cd8i65BlmxnB"
      },
      "execution_count": 66,
      "outputs": []
    },
    {
      "cell_type": "code",
      "source": [
        "rdf_grid.fit(info_x,info_y)\n"
      ],
      "metadata": {
        "id": "tlZapDj4mu1n",
        "outputId": "9b51d179-13e9-41ba-e7c3-8362e9704844",
        "colab": {
          "base_uri": "https://localhost:8080/"
        }
      },
      "execution_count": 67,
      "outputs": [
        {
          "output_type": "stream",
          "name": "stdout",
          "text": [
            "Fitting 5 folds for each of 1 candidates, totalling 5 fits\n"
          ]
        },
        {
          "output_type": "execute_result",
          "data": {
            "text/plain": [
              "GridSearchCV(cv=KFold(n_splits=5, random_state=2022, shuffle=True),\n",
              "             estimator=RandomForestClassifier(), n_jobs=-1,\n",
              "             param_grid={'criterion': ['entropy'], 'max_depth': [8],\n",
              "                         'max_features': ['sqrt'], 'min_samples_split': [4]},\n",
              "             verbose=2)"
            ]
          },
          "metadata": {},
          "execution_count": 67
        }
      ]
    },
    {
      "cell_type": "code",
      "source": [
        "np.mean(cross_val_score(rdf,info_x,info_y,cv=cv,scoring=\"accuracy\",n_jobs=-1))\n"
      ],
      "metadata": {
        "id": "-AqhwahiK09P",
        "outputId": "2333cb4a-4607-4d5e-e3d2-23fc5112772a",
        "colab": {
          "base_uri": "https://localhost:8080/"
        }
      },
      "execution_count": 68,
      "outputs": [
        {
          "output_type": "execute_result",
          "data": {
            "text/plain": [
              "0.7238579921078256"
            ]
          },
          "metadata": {},
          "execution_count": 68
        }
      ]
    },
    {
      "cell_type": "markdown",
      "source": [
        "# Ensemble Stacking"
      ],
      "metadata": {
        "id": "qxNmcmfUGQ4O"
      }
    },
    {
      "cell_type": "code",
      "source": [
        "eclf = EnsembleVoteClassifier(clfs=[logreg, knn,rdf], weights=[1,1,1])\n",
        "labels = ['Logistic Regression', 'KNN',\"Random Forest\",]\n",
        "for clf, label in zip([logreg, knn, rdf], labels):\n",
        "\n",
        "    scores = cross_val_score(clf, info_x, info_y, \n",
        "                             cv=cv, \n",
        "                             scoring='accuracy',\n",
        "                             n_jobs=-1)\n",
        "\n",
        "    print(\"[%s] Accuracy: %0.6f (+/- %0.6f) Best: %0.6f \" \n",
        "          % (label,scores.mean(), scores.std(), scores.max()))\n"
      ],
      "metadata": {
        "id": "fhgA_cEWpznD",
        "outputId": "95e339b3-cd2f-46d1-ab83-b69fab8671cb",
        "colab": {
          "base_uri": "https://localhost:8080/"
        }
      },
      "execution_count": 69,
      "outputs": [
        {
          "output_type": "stream",
          "name": "stdout",
          "text": [
            "[Logistic Regression] Accuracy: 0.731653 (+/- 0.009943) Best: 0.743421 \n",
            "[KNN] Accuracy: 0.706853 (+/- 0.013521) Best: 0.732794 \n",
            "[Random Forest] Accuracy: 0.721024 (+/- 0.010797) Best: 0.738360 \n"
          ]
        }
      ]
    },
    {
      "cell_type": "code",
      "source": [
        "X_train, X_test, y_train, y_test = train_test_split(info_x,info_y,random_state=666,test_size=0.3)\n"
      ],
      "metadata": {
        "id": "vYpOPu5npzes"
      },
      "execution_count": 70,
      "outputs": []
    },
    {
      "cell_type": "code",
      "source": [
        "plt.figure()\n",
        "lw = 1\n",
        "#knn\n",
        "knn.fit(X_train,y_train)\n",
        "knn_pred = knn.predict_proba(X_test)\n",
        "fpr, tpr, threshold = roc_curve(y_test,knn_pred[:,1])\n",
        "roc_auc = auc(fpr, tpr)\n",
        "plt.plot(fpr, tpr, color='tab:blue',\n",
        "             lw=lw, label='KNN ROC curve (area = %0.4f)' % roc_auc)\n",
        "#logreg\n",
        "logreg.fit(X_train,y_train)\n",
        "log_pred = logreg.predict_proba(X_test)\n",
        "fpr, tpr, threshold = roc_curve(y_test,log_pred[:,1])\n",
        "roc_auc = auc(fpr, tpr)\n",
        "plt.plot(fpr, tpr, color='tab:green',\n",
        "             lw=lw, label='Logistic ROC curve (area = %0.4f)' % roc_auc)\n",
        "\n",
        "\n",
        "\n",
        "\n",
        "#rdf\n",
        "rdf.fit(X_train,y_train)\n",
        "rdf_pred = rdf.predict_proba(X_test)\n",
        "fpr, tpr, threshold = roc_curve(y_test,rdf_pred[:,1])\n",
        "roc_auc = auc(fpr, tpr)\n",
        "plt.plot(fpr, tpr, color='tab:brown',\n",
        "             lw=lw, label='RandomForest ROC curve (area = %0.4f)' % roc_auc)\n",
        "\n",
        "\n",
        "\n",
        "\n",
        "\n",
        "plt.plot([0, 1], [0, 1], color='navy', lw=lw, linestyle='--')\n",
        "plt.xlim([-0.02, 1.0])\n",
        "plt.ylim([0.0, 1.05])\n",
        "plt.xlabel('False Positive Rate')\n",
        "plt.ylabel('True Positive Rate')\n",
        "plt.title('ROC curve')\n",
        "plt.legend(loc=\"lower right\")\n",
        "plt.show()\n"
      ],
      "metadata": {
        "id": "sntm1VNjqDh6"
      },
      "execution_count": 72,
      "outputs": []
    },
    {
      "cell_type": "code",
      "source": [
        "estimators = [\n",
        "    ('knn', KNeighborsClassifier(algorithm= 'ball_tree', n_neighbors=98, weights= 'distance',leaf_size=1)),\n",
        "    ('rdf', RandomForestClassifier(criterion=\"entropy\",max_depth=8,max_features=\"sqrt\",min_samples_split=4)),\n",
        "    ('logreg',LogisticRegression(penalty=\"l2\",solver=\"sag\",warm_start=False,C=50)),\n",
        "    \n",
        "]\n",
        "\n",
        "\n",
        "stack = StackingClassifier(estimators=estimators, \n",
        "                           final_estimator=LogisticRegression(penalty=\"l2\",solver=\"sag\",warm_start=False,C=50))"
      ],
      "metadata": {
        "id": "ocYMiUYzqDfc"
      },
      "execution_count": 74,
      "outputs": []
    },
    {
      "cell_type": "code",
      "source": [
        "stack_score = cross_val_score(stack, info_x, info_y,cv=cv,scoring='accuracy',n_jobs=-1)\n"
      ],
      "metadata": {
        "id": "tIKCZ7LEqDcz"
      },
      "execution_count": 75,
      "outputs": []
    },
    {
      "cell_type": "code",
      "source": [
        "print(np.mean(stack_score),np.std(stack_score))\n",
        "print(stack_score.max())"
      ],
      "metadata": {
        "id": "Mhw6m4v1qDag",
        "outputId": "5f12eeee-03ff-4f9e-e2b0-6d2e701bc1db",
        "colab": {
          "base_uri": "https://localhost:8080/"
        }
      },
      "execution_count": 160,
      "outputs": [
        {
          "output_type": "stream",
          "name": "stdout",
          "text": [
            "0.7311472864244349 0.008772779376299389\n",
            "0.7393724696356275\n"
          ]
        }
      ]
    },
    {
      "cell_type": "code",
      "source": [
        "tprs = []\n",
        "aucs = []\n",
        "mean_fpr = np.linspace(0, 1, 100,)\n",
        "\n",
        "fig, ax = plt.subplots()\n",
        "for i, (train, test) in enumerate(cv.split(info_x, info_y)):\n",
        "    stack.fit(info_x.iloc[train], info_y.iloc[train])\n",
        "    viz = plot_roc_curve(stack, info_x.iloc[test], info_y.iloc[test],\n",
        "                         name='ROC fold {}'.format(i),\n",
        "                         alpha=0.3, lw=1, ax=ax)\n",
        "    interp_tpr = np.interp(mean_fpr, viz.fpr, viz.tpr)\n",
        "    interp_tpr[0] = 0.0\n",
        "    tprs.append(interp_tpr)\n",
        "    aucs.append(viz.roc_auc)\n",
        "\n",
        "ax.plot([0, 1], [0, 1], linestyle='--', lw=2, color='r',\n",
        "        label='Chance', alpha=.8)\n",
        "\n",
        "mean_tpr = np.mean(tprs, axis=0)\n",
        "mean_tpr[-1] = 1.0\n",
        "mean_auc = auc(mean_fpr, mean_tpr)\n",
        "std_auc = np.std(aucs)\n",
        "ax.plot(mean_fpr, mean_tpr, color='b',\n",
        "        label=r'Mean ROC (AUC = %0.4f $\\pm$ %0.4f)' % (mean_auc, std_auc),\n",
        "        lw=2, alpha=.8)\n",
        "\n",
        "std_tpr = np.std(tprs, axis=0)\n",
        "tprs_upper = np.minimum(mean_tpr + std_tpr, 1)\n",
        "tprs_lower = np.maximum(mean_tpr - std_tpr, 0)\n",
        "ax.fill_between(mean_fpr, tprs_lower, tprs_upper, color='grey', alpha=.2,\n",
        "                label=r'$\\pm$ 1 std. dev.')\n",
        "\n",
        "ax.set(xlim=[-0.05, 1.05], ylim=[-0.05, 1.05],\n",
        "       title=\"Receiver operating characteristic example\")\n",
        "ax.legend(loc=\"lower right\")\n",
        "plt.show()"
      ],
      "metadata": {
        "id": "8toigv0WqDYI"
      },
      "execution_count": null,
      "outputs": []
    }
  ]
}
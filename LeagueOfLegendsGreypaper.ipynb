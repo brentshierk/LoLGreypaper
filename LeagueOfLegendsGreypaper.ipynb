{
  "cells": [
    {
      "cell_type": "code",
      "execution_count": 8,
      "metadata": {
        "id": "1W8Nozl10cqk"
      },
      "outputs": [
        {
          "ename": "ModuleNotFoundError",
          "evalue": "No module named 'xgboost'",
          "output_type": "error",
          "traceback": [
            "\u001b[0;31m---------------------------------------------------------------------------\u001b[0m",
            "\u001b[0;31mModuleNotFoundError\u001b[0m                       Traceback (most recent call last)",
            "\u001b[0;32m/var/folders/2w/0hnkclss727_3hfyzgq7k4240000gn/T/ipykernel_12363/2810765999.py\u001b[0m in \u001b[0;36m<module>\u001b[0;34m\u001b[0m\n\u001b[1;32m     17\u001b[0m \u001b[0;31m#from catboost import CatBoostClassifier\u001b[0m\u001b[0;34m\u001b[0m\u001b[0;34m\u001b[0m\u001b[0m\n\u001b[1;32m     18\u001b[0m \u001b[0;32mfrom\u001b[0m \u001b[0msklearn\u001b[0m\u001b[0;34m.\u001b[0m\u001b[0mneighbors\u001b[0m \u001b[0;32mimport\u001b[0m \u001b[0mKNeighborsClassifier\u001b[0m\u001b[0;34m\u001b[0m\u001b[0;34m\u001b[0m\u001b[0m\n\u001b[0;32m---> 19\u001b[0;31m \u001b[0;32mfrom\u001b[0m \u001b[0mxgboost\u001b[0m \u001b[0;32mimport\u001b[0m \u001b[0mXGBClassifier\u001b[0m\u001b[0;34m\u001b[0m\u001b[0;34m\u001b[0m\u001b[0m\n\u001b[0m\u001b[1;32m     20\u001b[0m \u001b[0;32mfrom\u001b[0m \u001b[0msklearn\u001b[0m\u001b[0;34m.\u001b[0m\u001b[0mlinear_model\u001b[0m \u001b[0;32mimport\u001b[0m \u001b[0mLogisticRegression\u001b[0m\u001b[0;34m\u001b[0m\u001b[0;34m\u001b[0m\u001b[0m\n\u001b[1;32m     21\u001b[0m \u001b[0;32mfrom\u001b[0m \u001b[0mmlxtend\u001b[0m\u001b[0;34m.\u001b[0m\u001b[0mclassifier\u001b[0m \u001b[0;32mimport\u001b[0m \u001b[0mEnsembleVoteClassifier\u001b[0m\u001b[0;34m\u001b[0m\u001b[0;34m\u001b[0m\u001b[0m\n",
            "\u001b[0;31mModuleNotFoundError\u001b[0m: No module named 'xgboost'"
          ]
        }
      ],
      "source": [
        "import pandas as pd\n",
        "import numpy as np\n",
        "import matplotlib as plt\n",
        "import seaborn as sns\n",
        "import os \n",
        "import warnings\n",
        "import catboost\n",
        "from sklearn.model_selection import train_test_split\n",
        "from sklearn.metrics import roc_auc_score\n",
        "from sklearn.metrics import accuracy_score\n",
        "from sklearn.metrics import auc\n",
        "from sklearn.metrics import plot_roc_curve\n",
        "from sklearn.metrics import roc_curve\n",
        "from sklearn.ensemble import AdaBoostClassifier\n",
        "from sklearn.ensemble import RandomForestClassifier\n",
        "from sklearn.ensemble import StackingClassifier\n",
        "from sklearn.svm import SVC\n",
        "from catboost import CatBoostClassifier\n",
        "from sklearn.neighbors import KNeighborsClassifier\n",
        "from xgboost import XGBClassifier\n",
        "from sklearn.linear_model import LogisticRegression\n",
        "from mlxtend.classifier import EnsembleVoteClassifier\n",
        "from sklearn.model_selection import cross_val_score \n",
        "from sklearn.model_selection import KFold\n",
        "from sklearn.model_selection import GridSearchCV\n",
        "from sklearn.preprocessing import standardScaler"
      ]
    },
    {
      "cell_type": "code",
      "execution_count": null,
      "metadata": {},
      "outputs": [],
      "source": [
        "df = pd.read_csv('data/high_diamond_ranked_10min.csv')\n",
        "display(df.head(5), df.info())"
      ]
    },
    {
      "cell_type": "code",
      "execution_count": null,
      "metadata": {
        "id": "xI_51FpJAa2o"
      },
      "outputs": [],
      "source": [
        "info.columns"
      ]
    },
    {
      "cell_type": "code",
      "execution_count": null,
      "metadata": {
        "id": "QcEs_aQ7AkaU"
      },
      "outputs": [],
      "source": [
        "info.blueWins.value_counts(normalize=True)"
      ]
    },
    {
      "cell_type": "code",
      "execution_count": null,
      "metadata": {
        "id": "dk9diWuHA9ll"
      },
      "outputs": [],
      "source": [
        "plt.bar(info.blueWins.unique(),info.blueWins.value_counts(),color=(\"r\",\"b\")tick_label=(\"Loss\",\"Win\"))"
      ]
    },
    {
      "cell_type": "code",
      "execution_count": null,
      "metadata": {
        "id": "9-SIJiq2FMK9"
      },
      "outputs": [],
      "source": [
        "plt.scatter(info.blueAssists,info.redAssists,c=info.blueWins)\n",
        "plt.xlabel(\"blue assists\")\n",
        "plt.ylabel(\"red assists\")"
      ]
    },
    {
      "cell_type": "code",
      "execution_count": null,
      "metadata": {
        "id": "NKdyiBtrFcNJ"
      },
      "outputs": [],
      "source": [
        "info.blueTotalGold.where(info.blueWins==0).sort_values(ascending=False).head(2)"
      ]
    },
    {
      "cell_type": "code",
      "execution_count": null,
      "metadata": {
        "id": "Vmk37TnIFp15"
      },
      "outputs": [],
      "source": [
        "plt.scatter(data.blueTotalGold,data.redTotalGold,c=data.blueWins)\n",
        "plt.vlines(21056,12000,24000,color= \"red\", linestyle=':')\n",
        "plt.vlines(20000,12000,24000,color= \"red\", linestyle=':')\n",
        "plt.axvspan(21100, 24000, color='g', alpha=0.5, lw=0)\n",
        "plt.xlabel(\"blue gold\")\n",
        "plt.ylabel(\"red gold\")"
      ]
    },
    {
      "cell_type": "code",
      "execution_count": null,
      "metadata": {
        "id": "isxPk44YOL5t"
      },
      "outputs": [],
      "source": [
        "print(info.blueGoldDiff.where(info.blueWins==0).sort_values(ascending=False).head(1))\n",
        "print(info.blueGoldDiff.where(info.blueWins==1).sort_values(ascending=True).head(1))"
      ]
    },
    {
      "cell_type": "code",
      "execution_count": null,
      "metadata": {
        "id": "A5xDF6gTfRqs"
      },
      "outputs": [],
      "source": [
        "plt.scatter(data.blueGoldDiff,data.blueWins,c=data.blueWins)\n",
        "plt.axvspan(-6324.0,6744.0,color='r',alpha=0.5,lw=0)\n",
        "plt.ylabel(\"Lose                                             Win\")\n",
        "plt.xlabel(\"team gold\")"
      ]
    },
    {
      "cell_type": "code",
      "execution_count": null,
      "metadata": {
        "id": "FCS4gRVvfm0x"
      },
      "outputs": [],
      "source": [
        "plt.scatter(info.blueWardsPlaced,info.redWardsPlaced,c=info.blueWins)\n",
        "plt.xlabel(\"blue vision\")\n",
        "plt.ylabel(\"red vision\")"
      ]
    },
    {
      "cell_type": "code",
      "execution_count": null,
      "metadata": {
        "id": "5Rhnvxb5f2BO"
      },
      "outputs": [],
      "source": [
        "info.columns\n"
      ]
    },
    {
      "cell_type": "code",
      "execution_count": null,
      "metadata": {
        "id": "ZPYzOJPvf38L"
      },
      "outputs": [],
      "source": [
        "corr_matrix=info.drop([\"gameId\",'redWardsPlaced', 'redWardsDestroyed',\n",
        "       'redFirstBlood', 'redKills', 'redDeaths', 'redAssists',\n",
        "       'redEliteMonsters', 'redDragons', 'redHeralds', 'redTowersDestroyed',\n",
        "       'redTotalGold', 'redAvgLevel', 'redTotalExperience',\n",
        "       'redTotalMinionsKilled', 'redTotalJungleMinionsKilled', 'redGoldDiff',\n",
        "       'redExperienceDiff', 'redCSPerMin', 'redGoldPerMin'],axis=1).corr(method='pearson')\n",
        "corr_matrix.iloc[:,0]"
      ]
    },
    {
      "cell_type": "code",
      "execution_count": null,
      "metadata": {
        "id": "1E4Z9V8wf87e"
      },
      "outputs": [],
      "source": [
        "data.drop([\"gameId\",'redWardsPlaced', 'redWardsDestroyed',\n",
        "       'redFirstBlood', 'redKills', 'redDeaths', 'redAssists',\n",
        "       'redEliteMonsters', 'redDragons', 'redHeralds', 'redTowersDestroyed',\n",
        "       'redTotalGold', 'redAvgLevel', 'redTotalExperience',\n",
        "       'redTotalMinionsKilled', 'redTotalJungleMinionsKilled', 'redGoldDiff',\n",
        "       'redExperienceDiff', 'redCSPerMin', 'redGoldPerMin'],axis=1).describe()"
      ]
    },
    {
      "cell_type": "code",
      "execution_count": null,
      "metadata": {
        "id": "aN5-Bv_ff_9e"
      },
      "outputs": [],
      "source": [
        "data.blueWins.where(((data.blueKills+data.blueAssists)/data.blueDeaths)>=3).dropna().value_counts(normalize=True)\n"
      ]
    },
    {
      "cell_type": "code",
      "execution_count": null,
      "metadata": {
        "id": "-FbcrYZjgCs6"
      },
      "outputs": [],
      "source": [
        "data.blueWins.where(data.blueTowersDestroyed>=1).dropna().value_counts(normalize=True)\n"
      ]
    },
    {
      "cell_type": "code",
      "execution_count": null,
      "metadata": {
        "id": "EsN_uKgWyCWO"
      },
      "outputs": [],
      "source": [
        "data.blueWins.where(data.blueKills>=8).dropna().value_counts(normalize=True)\n"
      ]
    },
    {
      "cell_type": "code",
      "execution_count": null,
      "metadata": {
        "id": "r-qgcsciyEmB"
      },
      "outputs": [],
      "source": [
        "info[\"blueKDA\"]=3\n",
        "for i in range(0,len(info)):\n",
        "    if data.blueDeaths[i] != 0:\n",
        "        info[\"blueKDA\"][i]=((data.blueKills[i]+data.blueAssists[i])/data.blueDeaths[i]).round(4)\n",
        "    else:\n",
        "        0"
      ]
    },
    {
      "cell_type": "code",
      "execution_count": null,
      "metadata": {
        "id": "R8PUejPoyKMx"
      },
      "outputs": [],
      "source": [
        "info[\"redKDA\"]=3\n",
        "for i in range(0,len(info)):\n",
        "    if data.redDeaths[i]!=0:\n",
        "        info[\"redKDA\"][i] = ((data.redKills[i]+data.redAssists[i])/data.redDeaths[i]).round(4)\n",
        "    else:\n",
        "        0"
      ]
    },
    {
      "cell_type": "code",
      "execution_count": null,
      "metadata": {
        "id": "ppdyCzHyyL07"
      },
      "outputs": [],
      "source": [
        "info[\"blueKDADiff\"]=info[\"blueKDA\"]-info[\"redKDA\"]\n"
      ]
    },
    {
      "cell_type": "code",
      "execution_count": null,
      "metadata": {
        "id": "wYReM3EtEIpu"
      },
      "outputs": [],
      "source": [
        "info[\"blueGoldAdv\"]=3\n",
        "for i in range(0,len(info)):\n",
        "    if info[\"blueTotalGold\"][i] >= info[\"blueTotalGold\"][3464]:\n",
        "        info[\"blueGoldAdv\"][i] = 1\n",
        "    else:\n",
        "        info[\"blueGoldAdv\"][i] = 0\n"
      ]
    },
    {
      "cell_type": "code",
      "execution_count": null,
      "metadata": {
        "id": "oj7VcPjAEL3u"
      },
      "outputs": [],
      "source": [
        "info[\"blueDiffNeg\"]=3\n",
        "for i in range(0,len(info)):\n",
        "    if info[\"blueGoldDiff\"][i] <= info[\"blueGoldDiff\"][8459]:\n",
        "        info[\"blueDiffNeg\"][i] = 1\n",
        "    else:\n",
        "        info[\"blueDiffNeg\"][i] = 0\n"
      ]
    },
    {
      "cell_type": "code",
      "execution_count": null,
      "metadata": {
        "id": "JhKPlNkzEORv"
      },
      "outputs": [],
      "source": [
        "info[\"blueDiffPos\"]=3\n",
        "for i in range(0,9879):\n",
        "    if info[\"blueGoldDiff\"][i] >= info[\"blueGoldDiff\"][9608]:\n",
        "        info[\"blueDiffPos\"][i] = 1\n",
        "    else:\n",
        "        info[\"blueDiffPos\"][i] = 0"
      ]
    },
    {
      "cell_type": "code",
      "execution_count": null,
      "metadata": {
        "id": "PjNjESgQEQoZ"
      },
      "outputs": [],
      "source": [
        "cols=['gameId', 'blueWins', 'blueWardsPlaced', 'blueWardsDestroyed',\n",
        "       'blueFirstBlood', 'blueKills', 'blueDeaths', 'blueAssists',\n",
        "       'blueEliteMonsters', 'blueDragons', 'blueHeralds',\n",
        "       'blueTowersDestroyed', 'blueTotalGold', 'blueAvgLevel',\n",
        "       'blueTotalExperience', 'blueTotalMinionsKilled',\n",
        "       'blueTotalJungleMinionsKilled', 'blueGoldDiff', 'blueExperienceDiff',\n",
        "       'blueCSPerMin', 'blueGoldPerMin']\n",
        "info[cols]"
      ]
    },
    {
      "cell_type": "code",
      "execution_count": null,
      "metadata": {
        "id": "tvvV5neeEULU"
      },
      "outputs": [],
      "source": [
        "info_x=info.drop([\"gameId\",\"blueWins\"],axis=1)\n",
        "info_y=info.blueWins"
      ]
    },
    {
      "cell_type": "markdown",
      "metadata": {
        "id": "RMfDwwxHEnLe"
      },
      "source": [
        "knn\n"
      ]
    },
    {
      "cell_type": "code",
      "execution_count": null,
      "metadata": {
        "id": "dM56Ul4zEY-j"
      },
      "outputs": [],
      "source": [
        "cv=KFold(n_splits = 5, random_state=2022,shuffle=True)\n"
      ]
    },
    {
      "cell_type": "code",
      "execution_count": null,
      "metadata": {
        "id": "ytmlhmR0Fdh4"
      },
      "outputs": [],
      "source": [
        "np.sqrt(len(info_x))\n"
      ]
    },
    {
      "cell_type": "code",
      "execution_count": null,
      "metadata": {
        "id": "tisfnGm2Fd5U"
      },
      "outputs": [],
      "source": [
        "knn_params = {\"n_neighbors\" :np.arange(95,105),\n",
        "             \"weights\" : [\"distance\"],\n",
        "             \"algorithm\" : [\"ball_tree\"] , #,\"kd_tree\",\"brute\"\n",
        "             \"leaf_size\":[1,2]}\n"
      ]
    },
    {
      "cell_type": "code",
      "execution_count": null,
      "metadata": {
        "id": "lJmYMzPaFelz"
      },
      "outputs": [],
      "source": [
        "knn = KNeighborsClassifier()\n",
        "grid_knn = GridSearchCV(knn, knn_params,cv=5,verbose=2,n_jobs=-1)\n",
        "grid_knn.fit(info_x,info_y)\n"
      ]
    },
    {
      "cell_type": "code",
      "execution_count": null,
      "metadata": {
        "id": "w28qNSQzFe_k"
      },
      "outputs": [],
      "source": [
        "knn_best_params=grid_knn.best_params_\n",
        "knn_best_params"
      ]
    },
    {
      "cell_type": "code",
      "execution_count": null,
      "metadata": {
        "id": "70igQRC6FeYJ"
      },
      "outputs": [],
      "source": [
        "knn = KNeighborsClassifier(algorithm=\"ball_tree\",n_neighbors=98,weights=\"distance\",leaf_size=1)\n"
      ]
    },
    {
      "cell_type": "code",
      "execution_count": null,
      "metadata": {
        "id": "4xH6o4V3Fgf9"
      },
      "outputs": [],
      "source": [
        "  np.mean(cross_val_score(knn,info_x,info_y,cv=cv,scoring=\"accuracy\",n_jobs=-1))\n"
      ]
    },
    {
      "cell_type": "code",
      "execution_count": null,
      "metadata": {
        "id": "4-RhwJdKFgc-"
      },
      "outputs": [],
      "source": [
        "log_params = {\"penalty\":[\"l1\",\"l2\",\"elasticnet\"],\n",
        "              \"solver\":['newton-cg', 'lbfgs', 'sag', 'saga'],\n",
        "             \"C\":[1,5,10,20,30,50,100],\n",
        "             \"warm_start\":[True,False]}"
      ]
    },
    {
      "cell_type": "code",
      "execution_count": null,
      "metadata": {
        "id": "Bzsi97XTFgVy"
      },
      "outputs": [],
      "source": [
        "logreg=LogisticRegression()\n"
      ]
    },
    {
      "cell_type": "code",
      "execution_count": null,
      "metadata": {
        "id": "Kxfj2RnFFgTH"
      },
      "outputs": [],
      "source": [
        "log_grid = GridSearchCV(logreg,log_params,cv=cv,verbose=2,n_jobs=-1)\n"
      ]
    },
    {
      "cell_type": "code",
      "execution_count": null,
      "metadata": {
        "id": "IK5IcKoxFgQV"
      },
      "outputs": [],
      "source": [
        "log_grid.best_params_\n"
      ]
    },
    {
      "cell_type": "code",
      "execution_count": null,
      "metadata": {
        "id": "IXXqRz83FgNU"
      },
      "outputs": [],
      "source": [
        "logreg=LogisticRegression(penalty=\"l2\",solver=\"sag\",C=50, warm_start=False)\n"
      ]
    },
    {
      "cell_type": "code",
      "execution_count": null,
      "metadata": {
        "id": "in-gdbY2FgHh"
      },
      "outputs": [],
      "source": [
        "cat_params = {\"learning_rate\":[0.005],\n",
        "              \"depth\":[6,8]}"
      ]
    },
    {
      "cell_type": "code",
      "execution_count": null,
      "metadata": {
        "id": "h6NHm1jNFgAP"
      },
      "outputs": [],
      "source": [
        "cat = CatBoostClassifier()\n"
      ]
    },
    {
      "cell_type": "code",
      "execution_count": null,
      "metadata": {
        "id": "Y7MVdpcfFf22"
      },
      "outputs": [],
      "source": [
        "cat_grid = GridSearchCV(cat,cat_params,cv=cv)\n"
      ]
    },
    {
      "cell_type": "code",
      "execution_count": null,
      "metadata": {
        "id": "DEFTluOdFfsq"
      },
      "outputs": [],
      "source": [
        "cat_grid.fit(info_x,info_y)\n"
      ]
    },
    {
      "cell_type": "code",
      "execution_count": null,
      "metadata": {
        "id": "wZS-z4UmFfZE"
      },
      "outputs": [],
      "source": []
    }
  ],
  "metadata": {
    "colab": {
      "collapsed_sections": [],
      "name": "LeagueOfLegendsGreypaper.ipynb",
      "provenance": [],
      "toc_visible": true
    },
    "kernelspec": {
      "display_name": "Python 3",
      "name": "python3"
    },
    "language_info": {
      "codemirror_mode": {
        "name": "ipython",
        "version": 3
      },
      "file_extension": ".py",
      "mimetype": "text/x-python",
      "name": "python",
      "nbconvert_exporter": "python",
      "pygments_lexer": "ipython3",
      "version": "3.10.0"
    }
  },
  "nbformat": 4,
  "nbformat_minor": 0
}
